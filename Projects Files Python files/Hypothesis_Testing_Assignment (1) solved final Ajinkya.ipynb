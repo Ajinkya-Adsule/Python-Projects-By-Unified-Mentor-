{
  "cells": [
    {
      "cell_type": "markdown",
      "metadata": {
        "id": "wEPtWHTN-zvg"
      },
      "source": [
        "# <center> **Hypothesis Testing**"
      ]
    },
    {
      "cell_type": "markdown",
      "metadata": {
        "id": "ayRuyuJ8AClo"
      },
      "source": [
        "### Null & Alternate Hypothesis"
      ]
    },
    {
      "cell_type": "markdown",
      "metadata": {
        "id": "eKtIPPHAA8VC"
      },
      "source": [
        "**Question 1:**\n",
        "Suppose you are conducting a study to determine whether a new drug is effective in reducing blood pressure. Define the null hypothesis (H0) and the alternate hypothesis (H1) for this study. Explain the significance of each hypothesis in the context of your research.\n",
        "\n",
        "**Question 2:**\n",
        "You are working with a manufacturing company that claims its new manufacturing process can produce car batteries with a longer lifespan than the current process. Formulate the null and alternate hypotheses for this scenario. Additionally, explain why it's essential to have clear and well-defined hypotheses before conducting hypothesis testing.\n",
        "\n",
        "**Question 3:**\n",
        "A fast-food restaurant chain is concerned that the average delivery time for online orders has increased in recent months, potentially affecting customer satisfaction. Create the null and alternate hypotheses for testing whether there has been a significant increase in delivery times.\n",
        "\n",
        "*These questions will help you to practice defining and understanding null and alternate hypotheses in various real-world scenarios.*"
      ]
    },
    {
      "cell_type": "markdown",
      "metadata": {
        "id": "-D8KGFdxA1RJ"
      },
      "source": [
        "Question 1: New Drug for Blood Pressure\n",
        "Null Hypothesis (H₀): The new drug has no significant effect on reducing blood pressure. (The mean blood pressure of patients taking the drug remains the same as before.)\n",
        "\n",
        "Alternate Hypothesis (H₁): The new drug significantly reduces blood pressure. (The mean blood pressure of patients taking the drug is lower than before.)\n",
        "\n",
        "Significance of Hypotheses:\n",
        "The null hypothesis assumes that the drug has no effect, serving as the baseline comparison.\n",
        "\n",
        "The alternate hypothesis represents the researcher's belief that the drug has a positive impact.\n",
        "\n",
        "Hypothesis testing helps determine whether the observed reduction in blood pressure is statistically significant or due to chance."
      ]
    },
    {
      "cell_type": "markdown",
      "metadata": {
        "id": "cAAfvz0CBC_b"
      },
      "source": [
        "Question 2: Car Battery Lifespan\n",
        "Null Hypothesis (H₀): The new manufacturing process does not increase battery lifespan. (The mean lifespan of batteries from the new process is the same as the current process.)\n",
        "\n",
        "Alternate Hypothesis (H₁): The new manufacturing process increases battery lifespan. (The mean lifespan of batteries from the new process is longer than the current process.)\n",
        "\n",
        "Why Clear Hypotheses Matter:\n",
        "Well-defined hypotheses guide the research design and the statistical tests used.\n",
        "\n",
        "They ensure objective testing—researchers avoid bias by having a clear framework.\n",
        "\n",
        "Hypothesis clarity helps in interpreting results, making conclusions meaningful and actionable.\n",
        "\n",
        "Question 3: Fast-Food Delivery Time\n",
        "Null Hypothesis (H₀): The average delivery time has not increased in recent months. (The current delivery time is the same as before.)\n",
        "\n",
        "Alternate Hypothesis (H₁): The average delivery time has significantly increased. (The current delivery time is longer than before.)\n",
        "\n",
        "Why These Hypotheses Matter:\n",
        "The fast-food chain wants to measure whether delays are statistically significant rather than based on individual complaints.\n",
        "\n",
        "If the null hypothesis is rejected, the company may need to improve efficiency to enhance customer satisfaction."
      ]
    },
    {
      "cell_type": "markdown",
      "metadata": {
        "id": "p1Qg6yEBBEDS"
      },
      "source": [
        "### Rejection Region Approach & Z-test Implementation"
      ]
    },
    {
      "cell_type": "markdown",
      "metadata": {
        "id": "Yn8Q2etsCwoA"
      },
      "source": [
        "**Question 1:**\n",
        "You are conducting a Z-test to determine whether the mean score of students in your class is significantly different from the national average. You have collected a sample of 30 student scores, and you know the population standard deviation is 10. Explain the Rejection Region Approach in the context of this test. Provide the formula for calculating the Z-score and describe how you would determine whether to reject the null hypothesis.\n",
        "\n",
        "**Question 2:**\n",
        "A pharmaceutical company is testing a new drug to reduce cholesterol levels in patients. They want to know if the new drug is more effective than the current medication. You have been given data on the cholesterol levels of 50 patients who took the new drug and 50 patients who took the current medication. Using a significance level of 0.05, perform a Z-test to determine if there is a significant difference in cholesterol reduction between the two groups. Show all the steps involved in the test, including setting up the null and alternate hypotheses, calculating the Z-score, and making a decision based on the Rejection Region Approach.\n",
        "\n",
        "**Question 3:**\n",
        "A car manufacturer claims that their new electric car model can travel an average of 250 miles on a single charge. To test this claim, a consumer group selects a random sample of 36 cars from the manufacturer's production line and records their mileage on a single charge. Using the Rejection Region Approach and a significance level of 0.01, conduct a Z-test to determine if there is enough evidence to support the manufacturer's claim. Provide the step-by-step process, including the formulation of hypotheses and the calculation of the Z-score.\n",
        "\n",
        "**Question 4:**\n",
        "A researcher is investigating whether there is a significant difference in the mean salary of employees with a master's degree and those with a bachelor's degree in a particular industry. A random sample of 100 employees with master's degrees and 100 employees with bachelor's degrees is collected. Using the Rejection Region Approach and a significance level of 0.05, perform a Z-test to determine if there is a significant difference in mean salaries between the two groups. Explain how you would set up the null and alternate hypotheses and interpret the results of the test."
      ]
    },
    {
      "cell_type": "markdown",
      "metadata": {
        "id": "ftn5OzvxCGuh"
      },
      "source": [
        "Question 1: Z-Test for Mean Score of Students\n",
        "Hypotheses Setup:\n",
        "\n",
        "Null Hypothesis (H₀): The mean score of students in your class equals the national average.\n",
        "\n",
        "Alternate Hypothesis (H₁): The mean score of students in your class is different from the national average.\n",
        "\n",
        "Formula for Z-score Calculation:\n",
        "\n",
        "𝑍\n",
        "=\n",
        "𝑥\n",
        "ˉ\n",
        "−\n",
        "𝜇\n",
        "𝜎\n",
        "/\n",
        "𝑛\n",
        "Where:\n",
        "\n",
        "𝑥\n",
        "ˉ\n",
        " = sample mean\n",
        "\n",
        "𝜇\n",
        " = population mean\n",
        "\n",
        "𝜎\n",
        " = population standard deviation (given as 10)\n",
        "\n",
        "𝑛\n",
        " = sample size (30 students)\n",
        "\n",
        "Rejection Region Approach:\n",
        "\n",
        "Using a chosen significance level (usually 0.05 for a two-tailed test), find the critical value (\n",
        "𝑍\n",
        "𝑐\n",
        "𝑟\n",
        "𝑖\n",
        "𝑡\n",
        "𝑖\n",
        "𝑐\n",
        "𝑎\n",
        "𝑙\n",
        ").\n",
        "\n",
        "If the calculated Z-score falls outside the critical region (\n",
        "∣\n",
        "𝑍\n",
        "∣\n",
        ">\n",
        "𝑍\n",
        "𝑐\n",
        "𝑟\n",
        "𝑖\n",
        "𝑡\n",
        "𝑖\n",
        "𝑐\n",
        "𝑎\n",
        "𝑙\n",
        "), reject H₀."
      ]
    },
    {
      "cell_type": "markdown",
      "metadata": {
        "id": "1a-Zjj-nDK6U"
      },
      "source": [
        "Question 2: Z-Test for Cholesterol Reduction\n",
        "Hypotheses Setup:\n",
        "\n",
        "H₀: The mean cholesterol level reduction is the same for both drugs.\n",
        "\n",
        "H₁: The new drug leads to a greater reduction in cholesterol levels than the current medication.\n",
        "\n",
        "Formula for Z-score Calculation (Comparing Two Means):\n",
        "\n",
        "𝑍\n",
        "=\n",
        "(\n",
        "𝑥\n",
        "ˉ\n",
        "1\n",
        "−\n",
        "𝑥\n",
        "ˉ\n",
        "2\n",
        ")\n",
        "𝜎\n",
        "1\n",
        "2\n",
        "𝑛\n",
        "1\n",
        "+\n",
        "𝜎\n",
        "2\n",
        "2\n",
        "𝑛\n",
        "2\n",
        "Where:\n",
        "\n",
        "𝑥\n",
        "ˉ\n",
        "1\n",
        ",\n",
        "𝑥\n",
        "ˉ\n",
        "2\n",
        " = sample means of the two groups\n",
        "\n",
        "𝜎\n",
        "1\n",
        ",\n",
        "𝜎\n",
        "2\n",
        " = population standard deviations\n",
        "\n",
        "𝑛\n",
        "1\n",
        ",\n",
        "𝑛\n",
        "2\n",
        " = sample sizes (50 patients each)\n",
        "\n",
        "Decision:\n",
        "\n",
        "Determine the critical Z-value at a 0.05 significance level.\n",
        "\n",
        "If Z-score is beyond the critical threshold in the direction favoring the new drug, reject H₀."
      ]
    },
    {
      "cell_type": "markdown",
      "metadata": {
        "id": "ldysyDwNDK8M"
      },
      "source": [
        "Question 3: Z-Test for Electric Car Mileage Claim\n",
        "Hypotheses Setup:\n",
        "\n",
        "H₀: The mean mileage is 250 miles.\n",
        "\n",
        "H₁: The mean mileage is different from 250 miles.\n",
        "\n",
        "Formula for Z-score Calculation:\n",
        "\n",
        "𝑍\n",
        "=\n",
        "𝑥\n",
        "ˉ\n",
        "−\n",
        "250\n",
        "𝜎\n",
        "/\n",
        "𝑛\n",
        "Sample size \n",
        "𝑛\n",
        "=\n",
        "36\n",
        ".\n",
        "\n",
        "Significance level \n",
        "𝛼\n",
        "=\n",
        "0.01\n",
        ".\n",
        "\n",
        "Decision:\n",
        "\n",
        "Find Z-critical value for a two-tailed test at 0.01.\n",
        "\n",
        "If the Z-score lies in the rejection region, reject H₀, implying the claim is not supported."
      ]
    },
    {
      "cell_type": "markdown",
      "metadata": {
        "id": "LbjEW3bLDK-Y"
      },
      "source": [
        "Question 4: Z-Test for Employee Salaries\n",
        "Hypotheses Setup:\n",
        "\n",
        "H₀: The mean salaries of employees with master's and bachelor's degrees are equal.\n",
        "\n",
        "H₁: The mean salaries are significantly different.\n",
        "\n",
        "Formula for Z-score Calculation (Comparing Two Means):\n",
        "\n",
        "𝑍\n",
        "=\n",
        "(\n",
        "𝑥\n",
        "ˉ\n",
        "1\n",
        "−\n",
        "𝑥\n",
        "ˉ\n",
        "2\n",
        ")\n",
        "𝜎\n",
        "1\n",
        "2\n",
        "𝑛\n",
        "1\n",
        "+\n",
        "𝜎\n",
        "2\n",
        "2\n",
        "𝑛\n",
        "2\n",
        "𝑛\n",
        "1\n",
        ",\n",
        "𝑛\n",
        "2\n",
        "=\n",
        "100\n",
        " for both groups.\n",
        "\n",
        "Use Z-critical for a 0.05 significance level.\n",
        "\n",
        "Decision:\n",
        "\n",
        "If the Z-score lies in the rejection region, reject H₀ and conclude a significant salary difference exists."
      ]
    },
    {
      "cell_type": "markdown",
      "metadata": {
        "id": "NIL0-edIDLAo"
      },
      "source": []
    },
    {
      "cell_type": "markdown",
      "metadata": {
        "id": "h_nDkhsNDL1F"
      },
      "source": [
        "### Type 1 & Type 2 Errors"
      ]
    },
    {
      "cell_type": "markdown",
      "metadata": {
        "id": "hOjnjj0oDuba"
      },
      "source": [
        "**Case Study 1: Medical Testing**\n",
        "\n",
        "**Scenario**:\n",
        "A medical company has developed a new diagnostic test for a rare disease. The test is highly sensitive, meaning it rarely misses true cases of the disease (low Type II error rate). However, the company is concerned about the Type I error rate, as false positives can lead to unnecessary stress and further testing for patients.\n",
        "\n",
        "**Assignment:**\n",
        "\n",
        "1. Describe the potential consequences of a Type I error in this medical testing scenario.\n",
        "2. Explain the potential consequences of a Type II error.\n",
        "3. Discuss the trade-off between Type I and Type II errors in medical testing and how it influences the decision on test thresholds."
      ]
    },
    {
      "cell_type": "markdown",
      "metadata": {
        "id": "ryb6enZJDtbu"
      },
      "source": [
        "1. Consequences of a Type I Error (False Positive)\n",
        "A Type I error occurs when the test incorrectly detects the disease in a person who does not actually have it. Potential consequences include:\n",
        "\n",
        "Unnecessary psychological distress for the patient, as they believe they have a serious illness.\n",
        "\n",
        "Additional medical tests, which may be invasive, expensive, and time-consuming.\n",
        "\n",
        "Unwarranted treatment, possibly exposing the patient to side effects from medication or procedures that they don’t actually need.\n",
        "\n",
        "Strain on healthcare resources, as false positives lead to unnecessary follow-ups and interventions."
      ]
    },
    {
      "cell_type": "markdown",
      "metadata": {
        "id": "0nRmPbqND7ml"
      },
      "source": [
        "2. Consequences of a Type II Error (False Negative)\n",
        "A Type II error occurs when the test fails to detect the disease in a person who actually has it. Consequences can be severe:\n",
        "\n",
        "Delayed diagnosis and treatment, allowing the disease to progress unchecked.\n",
        "\n",
        "Increased risk of complications, as the patient does not receive timely medical intervention.\n",
        "\n",
        "False reassurance, leading the individual to ignore symptoms or skip further medical evaluations.\n",
        "\n",
        "Higher mortality risk, particularly if early intervention is crucial for managing the disease effectively.\n",
        "\n",
        "3. Trade-off Between Type I and Type II Errors in Medical Testing\n",
        "The balance between these errors is critical in setting the test threshold:\n",
        "\n",
        "Reducing Type I errors (false positives) can improve specificity but may inadvertently increase Type II errors (false negatives).\n",
        "\n",
        "Reducing Type II errors (false negatives) improves sensitivity but may lead to more false positives.\n",
        "\n",
        "Medical Decision-Making: In life-threatening diseases, lowering Type II errors is prioritized to ensure fewer missed cases. However, for diseases where a false positive is highly disruptive, balancing Type I errors is essential.\n",
        "\n",
        "Regulatory and Ethical Considerations: Healthcare professionals must set diagnostic thresholds based on disease severity, treatment risks, and patient well-being."
      ]
    },
    {
      "cell_type": "markdown",
      "metadata": {
        "id": "tfnLuuFTD9vi"
      },
      "source": [
        "**Case Study 2: Criminal Justice System**\n",
        "\n",
        "**Scenario:**\n",
        "In a criminal trial, the prosecution aims to convict a defendant based on evidence. The consequences of a wrongful conviction (Type I error) are severe, but so are the consequences of letting a guilty person go free (Type II error).\n",
        "\n",
        "**Assignment:**\n",
        "\n",
        "1. Describe a situation in the criminal justice system where a Type I error can occur and its implications.\n",
        "2. Provide an example of a situation where a Type II error can occur and its potential consequences.\n",
        "3. Discuss the challenges and ethical considerations in finding a balance between minimizing Type I and Type II errors in criminal trials."
      ]
    },
    {
      "cell_type": "markdown",
      "metadata": {
        "id": "jiLiOftQErJU"
      },
      "source": [
        "1. Type I Error (False Conviction)\n",
        "A Type I error occurs when an innocent person is wrongfully convicted. Example:\n",
        "\n",
        "Suppose a person is accused of robbery based on circumstantial evidence and unreliable eyewitness testimony. If the jury convicts this innocent individual, it results in a Type I error.\n",
        "\n",
        "Implications:\n",
        "Loss of freedom: The innocent defendant is imprisoned for a crime they did not commit.\n",
        "\n",
        "Psychological and social consequences: Stigma, financial hardship, and emotional distress impact the wrongfully convicted individual and their family.\n",
        "\n",
        "Distrust in the justice system: Public confidence in legal fairness may decline.\n",
        "\n",
        "The real criminal remains free, potentially committing more crimes."
      ]
    },
    {
      "cell_type": "markdown",
      "metadata": {
        "id": "-BC1Q4LHEyj1"
      },
      "source": [
        "2. Type II Error (Guilty Person Goes Free)\n",
        "A Type II error occurs when a guilty person is acquitted despite sufficient evidence. Example:\n",
        "\n",
        "Suppose a prosecutor fails to present compelling evidence against a known criminal due to procedural mistakes, leading to an acquittal.\n",
        "\n",
        "Consequences:\n",
        "Threat to public safety: The offender may commit further crimes.\n",
        "\n",
        "Victims remain without justice, discouraging future crime reporting.\n",
        "\n",
        "Erosion of trust in the legal system, as people see guilty individuals walking free.\n",
        "\n",
        "3. Balancing Type I and Type II Errors in Criminal Trials\n",
        "Presumption of Innocence: Legal systems prioritize minimizing Type I errors (wrongful convictions) to protect innocent individuals.\n",
        "\n",
        "Burden of Proof: Prosecutors must prove guilt \"beyond a reasonable doubt,\" reducing the risk of convicting innocent people.\n",
        "\n",
        "Ethical Dilemma: Striking the right balance is difficult—too strict, and guilty criminals escape justice (Type II error); too lenient, and innocent lives are ruined (Type I error).\n",
        "\n",
        "Judicial Safeguards: Appeals, retrials, and independent reviews help correct errors"
      ]
    },
    {
      "cell_type": "markdown",
      "metadata": {
        "id": "a-e7ZMn5Ey1G"
      },
      "source": [
        "**Case Study 3: Product Quality Control**\n",
        "\n",
        "**Scenario**:\n",
        "A manufacturing company uses a quality control process to ensure that its products meet specific standards. Rejecting a good product (Type I error) can be costly, while accepting a defective product (Type II error) can harm the company's reputation.\n",
        "\n",
        "**Assignment**:\n",
        "\n",
        "1. Describe a scenario in product quality control where a Type I error may occur and its financial implications.\n",
        "2. Provide an example of a situation where a Type II error can occur and its potential impact on the company's reputation.\n",
        "3. Discuss strategies that the company can implement to strike a balance between minimizing Type I and Type II errors in its quality control process."
      ]
    },
    {
      "cell_type": "markdown",
      "metadata": {
        "id": "GLVhNd-jFC6V"
      },
      "source": [
        "1. Type I Error (False Rejection) in Quality Control\n",
        "A Type I error occurs when the company incorrectly rejects a product that actually meets quality standards.\n",
        "\n",
        "Scenario & Financial Implications:\n",
        "Suppose an automated quality control system mistakenly flags perfectly functional electronic components as defective due to slight variations in measurement.\n",
        "\n",
        "These rejected products cannot be sold, leading to wasted resources and increased production costs.\n",
        "\n",
        "If rejection rates are high, the company may need to slow down production, perform unnecessary rework, and increase testing expenses.\n",
        "\n",
        "Over time, excessive false rejections hurt profitability and reduce efficiency, leading to higher operational costs."
      ]
    },
    {
      "cell_type": "markdown",
      "metadata": {
        "id": "-nqzh2CnFEJq"
      },
      "source": [
        "2. Type II Error (False Acceptance) in Quality Control\n",
        "A Type II error occurs when a defective product passes inspection and reaches consumers.\n",
        "\n",
        "Example & Reputation Impact:\n",
        "Imagine a battery manufacturing company produces lithium-ion batteries for electric vehicles.\n",
        "\n",
        "Due to a flaw in the production process, some batteries have a hidden defect that reduces lifespan, but they pass quality control due to an inadequate testing threshold.\n",
        "\n",
        "These defective batteries reach customers, leading to widespread complaints, recalls, and even safety concerns.\n",
        "\n",
        "Negative reviews and reports damage consumer trust, causing long-term brand reputation issues.\n",
        "\n",
        "Severe cases could result in legal liabilities or government intervention, making the company vulnerable to financial penalties and public backlash.\n",
        "\n",
        "3. Strategies to Balance Type I & Type II Errors\n",
        "To optimize quality control, companies must find the right balance between false rejection and false acceptance.\n",
        "\n",
        "Key Strategies:\n",
        "Fine-Tune Testing Thresholds: Adjust criteria to minimize unnecessary rejections while still catching defects.\n",
        "\n",
        "Implement Advanced Quality Control Methods: Use AI-driven inspection techniques to reduce human error and improve detection accuracy.\n",
        "\n",
        "Double-Check Borderline Cases: Introduce additional review steps for items that barely pass or fail testing.\n",
        "\n",
        "Regularly Update Standards: Conduct ongoing evaluations to ensure that acceptance/rejection criteria reflect actual product performance.\n",
        "\n",
        "Customer Feedback Integration: Monitor consumer reports to detect patterns that indicate overlooked defects.\n",
        "\n",
        "Cost vs. Risk Analysis: The company must weigh the financial burden of false rejections against the potential damage caused by defective products in the market."
      ]
    },
    {
      "cell_type": "markdown",
      "metadata": {
        "id": "Ovd9bNBZFX4c"
      },
      "source": [
        "### P-value Approach & T-test Implementation"
      ]
    },
    {
      "cell_type": "markdown",
      "metadata": {
        "id": "vpIQ8xAZFdN5"
      },
      "source": [
        "**Case Study 1: Education**\n",
        "\n",
        "**Scenario**:\n",
        "A school district is implementing a new teaching method aimed at improving students' math scores. They want to know if the new method is effective. A random sample of 30 students who received the new instruction method is compared to a sample of 30 students who received the traditional method. The district wants to use a t-test to analyze the data.\n",
        "\n",
        "**Assignment:**\n",
        "\n",
        "1. Formulate the null and alternate hypotheses for this study.\n",
        "2. Perform a t-test using the collected data and calculate the t-statistic.\n",
        "3. Calculate the P-value and interpret its significance.\n",
        "Based on the P-value and a significance level of 0.05, make a decision regarding the null hypothesis."
      ]
    },
    {
      "cell_type": "markdown",
      "metadata": {
        "id": "juS5rJ3YFb1r"
      },
      "source": [
        "1. Formulating Hypotheses\n",
        "Null Hypothesis (H₀): The new teaching method has no significant effect on students' math scores. (The mean scores of students using the new method are equal to those using the traditional method.)\n",
        "\n",
        "Alternate Hypothesis (H₁): The new teaching method leads to significantly different math scores. (The mean scores of students using the new method are different from those using the traditional method.)"
      ]
    },
    {
      "cell_type": "markdown",
      "metadata": {
        "id": "54wqJc85GUij"
      },
      "source": [
        "2. Performing a t-Test\n",
        "Since two independent groups are compared, we use the two-sample t-test:\n",
        "\n",
        "𝑡\n",
        "=\n",
        "𝑥\n",
        "ˉ\n",
        "1\n",
        "−\n",
        "𝑥\n",
        "ˉ\n",
        "2\n",
        "𝑠\n",
        "1\n",
        "2\n",
        "𝑛\n",
        "1\n",
        "+\n",
        "𝑠\n",
        "2\n",
        "2\n",
        "𝑛\n",
        "2\n",
        "Where:\n",
        "\n",
        "𝑥\n",
        "ˉ\n",
        "1\n",
        ",\n",
        "𝑥\n",
        "ˉ\n",
        "2\n",
        " = sample means of the two groups.\n",
        "\n",
        "𝑠\n",
        "1\n",
        ",\n",
        "𝑠\n",
        "2\n",
        " = sample standard deviations.\n",
        "\n",
        "𝑛\n",
        "1\n",
        ",\n",
        "𝑛\n",
        "2\n",
        " = sample sizes (both 30 students).\n",
        "\n",
        "After substituting values from the collected data, the t-statistic is computed."
      ]
    },
    {
      "cell_type": "markdown",
      "metadata": {
        "id": "dDVCqb2RGU8g"
      },
      "source": [
        "3. Calculating the P-Value & Decision-Making\n",
        "The P-value represents the probability of observing the given results if H₀ is true.\n",
        "\n",
        "If P ≤ 0.05, reject H₀ → conclude that the new method significantly affects math scores.\n",
        "\n",
        "If P > 0.05, fail to reject H₀ → conclude there is no significant difference between methods."
      ]
    },
    {
      "cell_type": "markdown",
      "metadata": {
        "id": "dpeE6GzTGVtT"
      },
      "source": [
        "**Case Study 2: Baseball Player Performance**\n",
        "\n",
        "**Scenario**:\n",
        "You are a data analyst for a professional baseball team. The team's management wants to assess whether a new training program has led to a significant improvement in the batting averages of their players. You have collected batting average data for two groups of players: one group who underwent the new training program (Group A) and another group who did not (Group B).\n",
        "\n",
        "**Data**:\n",
        "\n",
        "**Group A** (New Training Program):\n",
        "\n",
        "Sample Size: 25 players,\n",
        "Mean Batting Average: 0.285,\n",
        "Sample Standard Deviation: 0.040.\n",
        "\n",
        "**Group B** (No Training Program):\n",
        "\n",
        "Sample Size: 30 players,\n",
        "Mean Batting Average: 0.270,\n",
        "Sample Standard Deviation: 0.045.\n",
        "\n",
        "**Assignment:**\n",
        "\n",
        "1. Formulate the null and alternate hypotheses to test whether the new training program has led to a significant improvement in batting averages.\n",
        "2. Conduct a two-sample t-test using the provided data. Calculate the t-statistic.\n",
        "3. Calculate the degrees of freedom for the test.\n",
        "4. Calculate the p-value associated with the test.\n",
        "5. Interpret the results and make a recommendation to the team's management based on the p-value approach."
      ]
    },
    {
      "cell_type": "markdown",
      "metadata": {
        "id": "U0J3dfB8HT9P"
      },
      "source": [
        "1. Formulating Hypotheses\n",
        "Null Hypothesis (H₀): The new training program has no significant effect on batting averages. (The mean batting averages of Group A and Group B are equal.)\n",
        "\n",
        "Alternate Hypothesis (H₁): The new training program has led to a significant improvement in batting averages. (The mean batting average of Group A is higher than that of Group B.)\n",
        "\n",
        "Mathematically:\n",
        "\n",
        "𝐻\n",
        "0\n",
        ":\n",
        "𝜇\n",
        "𝐴\n",
        "=\n",
        "𝜇\n",
        "𝐵\n",
        "𝐻\n",
        "1\n",
        ":\n",
        "𝜇\n",
        "𝐴\n",
        ">\n",
        "𝜇\n",
        "𝐵\n",
        "Since the management wants to check for improvement, this is a one-tailed test."
      ]
    },
    {
      "cell_type": "markdown",
      "metadata": {
        "id": "mh8cRgVzHUx3"
      },
      "source": [
        "2. Conducting a Two-Sample t-Test\n",
        "The t-statistic for comparing two independent groups is given by:\n",
        "\n",
        "𝑡\n",
        "=\n",
        "(\n",
        "𝑥\n",
        "ˉ\n",
        "𝐴\n",
        "−\n",
        "𝑥\n",
        "ˉ\n",
        "𝐵\n",
        ")\n",
        "𝑠\n",
        "𝐴\n",
        "2\n",
        "𝑛\n",
        "𝐴\n",
        "+\n",
        "𝑠\n",
        "𝐵\n",
        "2\n",
        "𝑛\n",
        "𝐵\n",
        "Substituting the given values:\n",
        "\n",
        "𝑡\n",
        "=\n",
        "(\n",
        "0.285\n",
        "−\n",
        "0.270\n",
        ")\n",
        "0.040\n",
        "2\n",
        "25\n",
        "+\n",
        "0.045\n",
        "2\n",
        "30\n",
        "𝑡\n",
        "=\n",
        "0.015\n",
        "0.0016\n",
        "25\n",
        "+\n",
        "0.002025\n",
        "30\n",
        "𝑡\n",
        "=\n",
        "0.015\n",
        "0.000064\n",
        "+\n",
        "0.0000675\n",
        "𝑡\n",
        "=\n",
        "0.015\n",
        "0.0001315\n",
        "𝑡\n",
        "=\n",
        "0.015\n",
        "0.01147\n",
        "𝑡\n",
        "≈\n",
        "1.31"
      ]
    },
    {
      "cell_type": "markdown",
      "metadata": {
        "id": "2_-_t6d_HUmO"
      },
      "source": [
        "3. Calculating Degrees of Freedom\n",
        "The degrees of freedom for an unequal variance t-test (Welch’s t-test) is approximated using:\n",
        "\n",
        "𝑑\n",
        "𝑓\n",
        "=\n",
        "(\n",
        "𝑠\n",
        "𝐴\n",
        "2\n",
        "𝑛\n",
        "𝐴\n",
        "+\n",
        "𝑠\n",
        "𝐵\n",
        "2\n",
        "𝑛\n",
        "𝐵\n",
        ")\n",
        "2\n",
        "(\n",
        "𝑠\n",
        "𝐴\n",
        "2\n",
        "𝑛\n",
        "𝐴\n",
        ")\n",
        "2\n",
        "𝑛\n",
        "𝐴\n",
        "−\n",
        "1\n",
        "+\n",
        "(\n",
        "𝑠\n",
        "𝐵\n",
        "2\n",
        "𝑛\n",
        "𝐵\n",
        ")\n",
        "2\n",
        "𝑛\n",
        "𝐵\n",
        "−\n",
        "1\n",
        "After computation, the degrees of freedom (df) ≈ 52."
      ]
    },
    {
      "cell_type": "markdown",
      "metadata": {
        "id": "wsHItEvtHVUq"
      },
      "source": [
        "4. Calculating the P-value\n",
        "Using a t-table or statistical software for t = 1.31 and df = 52, the P-value ≈ 0.10 for a one-tailed test.\n",
        "\n",
        "5. Interpretation & Recommendation\n",
        "Given a significance level of 0.05, we compare the P-value (0.10) to alpha (0.05).\n",
        "\n",
        "Since P-value > 0.05, we fail to reject H₀.\n",
        "\n",
        "This means there is not enough statistical evidence to conclude that the new training program significantly improved batting averages.\n",
        "\n",
        "Recommendation:\n",
        "\n",
        "Management should reconsider the effectiveness of the program or test it with a larger sample.\n",
        "\n",
        "They might adjust training techniques before making final decisions about implementing the program across the entire team."
      ]
    }
  ],
  "metadata": {
    "colab": {
      "provenance": []
    },
    "kernelspec": {
      "display_name": "Python 3",
      "name": "python3"
    },
    "language_info": {
      "name": "python"
    }
  },
  "nbformat": 4,
  "nbformat_minor": 0
}
